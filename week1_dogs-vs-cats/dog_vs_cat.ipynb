{
  "nbformat": 4,
  "nbformat_minor": 0,
  "metadata": {
    "colab": {
      "name": "wdll-part1-dog-vs-cat.ipynb",
      "provenance": [],
      "collapsed_sections": []
    },
    "kernelspec": {
      "name": "python3",
      "display_name": "Python 3"
    }
  },
  "cells": [
    {
      "cell_type": "markdown",
      "metadata": {
        "id": "prxmf_Estw8e",
        "colab_type": "text"
      },
      "source": [
        "## Warsaw Deep Learning Labs / Part 1 🐕 vs 🐈\n",
        "\n"
      ]
    },
    {
      "cell_type": "markdown",
      "metadata": {
        "id": "rds4Rt7FKNfw",
        "colab_type": "text"
      },
      "source": [
        "*Dogs vs Cats (duration: 3hrs)*\n",
        "\n",
        "Welcome to our first meeting at the *Warsaw Deep Learning Labs*! Let's dive into the world of deep learning!\n",
        "\n",
        "In this task, you will build a Neural Network model using TensorFlow and Keras for classifying dogs and cats images. Model should accept images of the size of 64x64x3 and produce array of probabilites of length 2. Value under the 0th index should resemble the probability of finding a cat on image. Analogically, value of probability of finding a dog will be under the index 1 (0 = cat, 1 = dog).\n",
        "> \n",
        "\n",
        "In the following notebook, there are some parts of the code that you cannot change, which include:\n",
        "- I/O constraints (image size, first and last layers of Neural Network)\n",
        "- model submission form\n",
        "\n",
        "**If you change them, model might not work on our online judging platform.** \n",
        ">\n",
        "The number of your submissions is unlimited, but only the last one will be considered.\n",
        ">\n",
        "You are free to use any available resources (books, internet, technical papers, gta sa cheat codes).\n",
        "\n",
        "Good luck, have fun!"
      ]
    },
    {
      "cell_type": "markdown",
      "metadata": {
        "id": "gMt8VnRlC2ar",
        "colab_type": "text"
      },
      "source": [
        "### Initialization"
      ]
    },
    {
      "cell_type": "code",
      "metadata": {
        "id": "2SudZYe0oBrg",
        "colab_type": "code",
        "colab": {}
      },
      "source": [
        "import numpy as np\n",
        "import pandas as pd\n",
        "import matplotlib.pyplot as plt\n",
        "import random\n",
        "import os\n",
        "from keras.preprocessing.image import ImageDataGenerator, load_img\n",
        "from sklearn.model_selection import train_test_split\n",
        "from google.colab import drive\n",
        "\n",
        "drive.mount('/content/drive/')"
      ],
      "execution_count": 0,
      "outputs": []
    },
    {
      "cell_type": "markdown",
      "metadata": {
        "id": "HlqLtY3aUpkl",
        "colab_type": "text"
      },
      "source": [
        "---\n",
        "☠️🔥 DO NOT CHANGE THESE VALUES 🔥☠️"
      ]
    },
    {
      "cell_type": "code",
      "metadata": {
        "id": "F__iU_MmvLeV",
        "colab_type": "code",
        "colab": {}
      },
      "source": [
        "IMAGE_WIDTH = 64 # Should be 64\n",
        "IMAGE_HEIGHT = 64 # Should be 64\n",
        "IMAGE_CHANNELS = 3 # Should be 3\n",
        "OUTPUT_CLASSES = 2 # Should be 2\n",
        "IMAGE_SIZE = (IMAGE_WIDTH, IMAGE_HEIGHT)"
      ],
      "execution_count": 0,
      "outputs": []
    },
    {
      "cell_type": "markdown",
      "metadata": {
        "id": "1Nn6OfnMUu3W",
        "colab_type": "text"
      },
      "source": [
        "---"
      ]
    },
    {
      "cell_type": "markdown",
      "metadata": {
        "id": "Wy08jKLapLxh",
        "colab_type": "text"
      },
      "source": [
        "### Preparing data"
      ]
    },
    {
      "cell_type": "code",
      "metadata": {
        "id": "7Xn1S7ALsvo9",
        "colab_type": "code",
        "colab": {}
      },
      "source": [
        "# You can grab some training set here \n",
        "# https://www.kaggle.com/chetankv/dogs-cats-images\n",
        "\n",
        "train_path = \"gdrive/link/to/your/training/set\"\n",
        "test_path = \"gdrive/link/to/your/test/set\"\n",
        "\n",
        "# Read data\n",
        "filenames = os.listdir(train_path)\n",
        "categories = []\n",
        "\n",
        "for filename in filenames:\n",
        "  category = filename.split('.')[0]\n",
        "  categories.append(1 if category == 'dog' else 0)\n",
        "\n",
        "# Create input data frame\n",
        "df = pd.DataFrame({\n",
        "    'filename': filenames,\n",
        "    'category': categories\n",
        "})"
      ],
      "execution_count": 0,
      "outputs": []
    },
    {
      "cell_type": "markdown",
      "metadata": {
        "id": "jjxL4_vdEPlC",
        "colab_type": "text"
      },
      "source": [
        "### Building model"
      ]
    },
    {
      "cell_type": "code",
      "metadata": {
        "id": "tD45g0I8xpCx",
        "colab_type": "code",
        "colab": {}
      },
      "source": [
        "from keras.models import Sequential\n",
        "from keras.layers import Conv2D, Dense\n",
        "\n",
        "model = Sequential()\n",
        "\n",
        "# Model takes image data as input...\n",
        "model.add(Conv2D(32, (3, 3), activation='relu', input_shape=(IMAGE_WIDTH, IMAGE_HEIGHT, IMAGE_CHANNELS)))\n",
        "\n",
        "# ... (add some layers here 🧱) ...\n",
        "\n",
        "# ... and produces array of probability values\n",
        "# eg. [0.24, 0.76], where indices correspond consecutively to cat (0) and dog (1). \n",
        "model.add(Dense(OUTPUT_CLASSES, activation='softmax'))\n",
        "\n",
        "model.compile(loss='categorical_crossentropy', optimizer='rmsprop', metrics=['accuracy'])\n",
        "\n",
        "# Display some useful stats 📈\n",
        "model.summary()"
      ],
      "execution_count": 0,
      "outputs": []
    },
    {
      "cell_type": "markdown",
      "metadata": {
        "id": "XA7o5gfi8H9O",
        "colab_type": "text"
      },
      "source": [
        "### Learning"
      ]
    },
    {
      "cell_type": "code",
      "metadata": {
        "id": "KqJmOh6D6yvI",
        "colab_type": "code",
        "colab": {}
      },
      "source": [
        "# Run your learning here, using\n",
        "# model.fit (https://keras.io/models/model/#fit)\n",
        "# or\n",
        "# model.fit_generator (https://keras.io/models/model/#fit_generator)"
      ],
      "execution_count": 0,
      "outputs": []
    },
    {
      "cell_type": "markdown",
      "metadata": {
        "id": "Kd0ryEuFDO_X",
        "colab_type": "text"
      },
      "source": [
        "### Submitting model"
      ]
    },
    {
      "cell_type": "code",
      "metadata": {
        "id": "0t8sibyIHBeH",
        "colab_type": "code",
        "colab": {}
      },
      "source": [
        "# Install tf.js utils prior to submitting your model.\n",
        "!pip install tensorflowjs==1.2.6"
      ],
      "execution_count": 0,
      "outputs": []
    },
    {
      "cell_type": "code",
      "metadata": {
        "id": "VcbiIvtn83QN",
        "colab_type": "code",
        "cellView": "form",
        "colab": {}
      },
      "source": [
        "#@markdown ### 📯 Submit model 📯\n",
        "from google.colab import drive\n",
        "from google.colab import files\n",
        "\n",
        "if IMAGE_WIDTH != 64:\n",
        "    print('Invalid IMAGE_WIDTH. ' + str(IMAGE_WIDTH) + ' instead of 64.')\n",
        "    assert False\n",
        "\n",
        "if IMAGE_HEIGHT != 64:\n",
        "    print('Invalid IMAGE_HEIGHT. ' + str(IMAGE_HEIGHT) + ' instead of 64.')\n",
        "    assert False\n",
        "\n",
        "if IMAGE_CHANNELS != 3:\n",
        "    print('Invalid IMAGE_CHANNELS. ' + str(IMAGE_CHANNELS) + ' instead of 3.')\n",
        "    assert False\n",
        "\n",
        "if OUTPUT_CLASSES != 2:\n",
        "    print('Invalid OUTPUT_CLASSES. ' + str(OUTPUT_CLASSES) + ' instead of 2.')\n",
        "    assert False\n",
        "\n",
        "drive.mount('/content/gdrive')\n",
        "model.save(\"model.h5\")\n",
        "\n",
        "print(\"Converting model to TF.JS format...\")\n",
        "!tensorflowjs_converter --input_format keras model.h5 model/\n",
        "\n",
        "print(\"Saving converted model to zip file...\")\n",
        "from zipfile import ZipFile\n",
        "import os\n",
        "\n",
        "fname = \"task1-keras-model\"\n",
        "zip_name = f\"{fname}.zip\"\n",
        "\n",
        "with ZipFile(zip_name, 'w') as mdl_zip:\n",
        "  for file in [f for f in os.listdir(\"model/\") if os.path.isfile(f'model/{f}')]:\n",
        "    mdl_zip.write(f'model/{file}', file)\n",
        "os.remove(\"model.h5\")\n",
        "\n",
        "import requests\n",
        "\n",
        "#group_password = \"grp_234_dffsc_sdf\" #@param {type:\"string\"}\n",
        "auth_code = \"#BADC0DE\" #@param {type:\"string\"}\n",
        "\n",
        "print('Sending model to server...')\n",
        "url = 'https://wdll-252515.appspot.com/api/task/send_model'\n",
        "files = {'model': open(zip_name, 'rb')}\n",
        "\n",
        "payload = {'modelName': fname, 'authCode': auth_code, 'taskId': 1}\n",
        "r = requests.post(url, files=files, data=payload)\n",
        "\n",
        "if r.status_code == 200:\n",
        "  print(\"Model successfully sent to server.\")\n",
        "else:\n",
        "  print(\"Error while sending model.\")\n",
        "\n"
      ],
      "execution_count": 0,
      "outputs": []
    }
  ]
}